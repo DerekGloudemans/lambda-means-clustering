{
 "cells": [
  {
   "cell_type": "markdown",
   "metadata": {},
   "source": [
    "# Lambda Means Clustering\n",
    "\n",
    "Some description here"
   ]
  },
  {
   "cell_type": "markdown",
   "metadata": {},
   "source": [
    "## 1. Define Clustering Dataset\n",
    "The following dataset provides a few class functions for clustering and predicting the clsuter of data using lambda means clustering. It also provides a visualization of the clusters by reducing the data into 2 dimensions using linear discriminant analysis. This strategy was used because it maximizes the inter-cluster variance along the new dimensions, which makes the plot as descriptive as possible."
   ]
  },
  {
   "cell_type": "code",
   "execution_count": 34,
   "metadata": {},
   "outputs": [],
   "source": [
    "# import statements\n",
    "import numpy as np \n",
    "import random\n",
    "import matplotlib.pyplot as plt\n",
    "from mpl_toolkits.mplot3d import axes3d, Axes3D\n",
    "from sklearn.discriminant_analysis import LinearDiscriminantAnalysis as LDA\n",
    "plt.style.use('seaborn')\n",
    "\n",
    "class cluster_dataset():\n",
    "    \"\"\"\n",
    "    Defines a general dataset class for storing unlabeled data \n",
    "    and implemtents functions to perform lambda means clustering\n",
    "    on this data and on new, unseen data\n",
    "    \"\"\"\n",
    "    \n",
    "    def __init__(self,data,lamb = 0):\n",
    "        \"\"\"\n",
    "        data - n x m numpy array, n = # examples, m = # features\n",
    "        lamb - value for lambda (float)\n",
    "        \"\"\"\n",
    "        # normalize data\n",
    "        self.data = data / data.max(axis=0) \n",
    "        \n",
    "        # define simple Euclidean distance function\n",
    "        self.dist = lambda x,y: np.sum(np.dot((x-y),(x-y)))**0.5\n",
    "        \n",
    "        # if specified, use specified value for lambda\n",
    "        if lamb != 0:\n",
    "            self.lamb = lamb\n",
    "        # set lambda as maximum distance between elements\n",
    "        else:\n",
    "            data = self.data\n",
    "            self.lamb = 0\n",
    "            for i in range(len(data)):\n",
    "                for j in range(len(data)):\n",
    "                    distance = self.dist(data[i],data[j]) \n",
    "                    if distance > self.lamb:\n",
    "                        self.lamb = distance\n",
    "            \n",
    "        self.cluster_memberships = None\n",
    "        self.cluster_centroids = None\n",
    "        \n",
    "        \n",
    "        \n",
    "    def train(self):\n",
    "        \"\"\"\n",
    "        Performs lambda - means clustering on internal data. Continues\n",
    "        iterating until no data changes clusters on an iteration\n",
    "        \"\"\"\n",
    "\n",
    "        data = self.data # m x n\n",
    "        \n",
    "        clusters = np.zeros(len(data)) -1 # m x 1 assign an invalid cluster to each datum initially\n",
    "        cluster_centroids = [] #? x n\n",
    "        cluster_centroids.append(np.mean(data,0))\n",
    "    \n",
    "        changed = True\n",
    "        count = 0\n",
    "        while changed:\n",
    "            changed = False\n",
    "            count = count + 1\n",
    "            # for each example\n",
    "            for i,datum in enumerate(data):\n",
    "                \n",
    "                prev_cluster = clusters[i]\n",
    "                \n",
    "                #compute distance to each centroid and select min\n",
    "                min_dist = np.inf\n",
    "                min_cluster = -1\n",
    "                for j,centroid in enumerate(cluster_centroids):\n",
    "                    d = self.dist(centroid,datum)\n",
    "                    if d < min_dist:\n",
    "                        min_dist = d\n",
    "                        min_cluster = j\n",
    "                \n",
    "                # assign to nearest cluster unless nearest cluster is farther than lambda\n",
    "                if min_dist < self.lamb:\n",
    "                    clusters[i] = min_cluster\n",
    "                else:\n",
    "                    # get max cluster num and assign new cluster to max + 1\n",
    "                    max_num = np.max(clusters)\n",
    "                    clusters[i] = max_num + 1\n",
    "                    # add new cluster to cluster_centroids\n",
    "                    cluster_centroids.append(datum)\n",
    "                \n",
    "                # determine whether any examples have changed clusters\n",
    "                cur_cluster = clusters[i]\n",
    "                if cur_cluster != prev_cluster:\n",
    "                    changed = True\n",
    "                    \n",
    "            # update cluster centroids     \n",
    "            for idx in range(len(cluster_centroids)):\n",
    "                members = data[np.where(clusters == idx)[0],:]\n",
    "                # zero centroid if it has no members\n",
    "                # note this is a bad way to remove the cluster - what if your data\n",
    "                # intersects the zero vector?\n",
    "                if len(members) == 0:\n",
    "                    cluster_centroids[idx] = np.zeros(len(cluster_centroids[idx]))\n",
    "                else:\n",
    "                    cluster_centroids[idx] = np.mean(members,0)\n",
    "        \n",
    "        self.cluster_centroids = cluster_centroids\n",
    "        self.cluster_memberships = clusters.astype(int)\n",
    "        variance = self.intracluster_variance() \n",
    "        \n",
    "        print(\"Lambda means clustering complete (lambda = {}). Took {} iterations and made {} clusters.\"\n",
    "              .format(self.lamb,count,1+np.max(clusters)))\n",
    "        print(\"Average intracluster variance: {}\".format(variance))\n",
    "       \n",
    "        \n",
    "        \n",
    "    def predict(self,data):\n",
    "        \"\"\"\n",
    "        predicts cluster membership for each element in data\n",
    "        data - m_new x n array where m_new not necessarily equal to m\n",
    "        \"\"\"\n",
    "        \n",
    "        # deal with case where 1D np array is passed instead of 2D np array\n",
    "        try:\n",
    "            np.size(data,1)\n",
    "        except IndexError:\n",
    "            data = data[np.newaxis,:]\n",
    "        \n",
    "        output = np.zeros(len(data))\n",
    "        for i, datum in enumerate(data):\n",
    "            #compute distance to each centroid and select min\n",
    "            min_dist = np.inf\n",
    "            min_cluster = -1\n",
    "            for j,centroid in enumerate(self.cluster_centroids):\n",
    "                d = self.dist(centroid,datum)\n",
    "                if d < min_dist:\n",
    "                    min_dist = d\n",
    "                    min_cluster = j\n",
    "\n",
    "            # assign to nearest cluster \n",
    "            output[i] = min_cluster\n",
    "            \n",
    "        print(\"predicted cluster for new data: {}\".format(output))\n",
    "        return output\n",
    "    \n",
    "    \n",
    "    def visualize(self):\n",
    "        \"\"\"\n",
    "        Plots the clusters in 2 dimensions using linear discriminant analysis\n",
    "        for dimensionality reduction\n",
    "        \"\"\"\n",
    "        if type(self.cluster_memberships) != np.ndarray:\n",
    "            print(\"Need to train first.\")\n",
    "            return None\n",
    "        elif np.max(self.cluster_memberships) == 0:\n",
    "            print(\"Plotting skipped as there is only one cluster.\")\n",
    "            return None\n",
    "        \n",
    "        else:\n",
    "            clf = LDA(tol=0.000000001)\n",
    "            clf.fit(self.data, self.cluster_memberships)\n",
    "            reduced = clf.transform(self.data)[:,:3]\n",
    "            reduced_centroids = clf.transform(self.cluster_centroids)\n",
    "\n",
    "            # define colorspace\n",
    "            num_colors = int(np.max(self.cluster_memberships)+1)\n",
    "            colors = np.zeros([num_colors,3])\n",
    "            \n",
    "            for i in range (num_colors):\n",
    "                colors[i] = np.random.rand(3)\n",
    "                \n",
    "            # assign colors\n",
    "            data_colors = np.zeros([len(reduced),3])\n",
    "            for idx in range(len(reduced)):\n",
    "                data_colors[idx] = colors[int(self.cluster_memberships[idx]),:]\n",
    "                \n",
    "            fig = plt.figure()\n",
    "            #ax = Axes3D(fig)\n",
    "            print(reduced.shape,data_colors.shape)\n",
    "            plt.scatter(reduced[:,0],reduced[:,1], s=20 ,color=data_colors)\n",
    "            plt.scatter(reduced_centroids[:,0],reduced_centroids[:,1],marker = 'x', color = colors)\n",
    "            plt.title(\"2D projection of Clusters\",fontsize= 16)\n",
    "            plt.show()\n",
    "            \n",
    "    def intracluster_variance(self):\n",
    "        \"\"\"\n",
    "        Returns the intracluster variance for the fit dataset\n",
    "        \"\"\"\n",
    "        if type(self.cluster_memberships) != np.ndarray:\n",
    "            print(\"Need to train first.\")\n",
    "            return None\n",
    "        \n",
    "        # calculate variance (squared deviation) of each sample from cluster mean\n",
    "        total_variance = 0\n",
    "        \n",
    "        for idx,datum in enumerate(self.data):\n",
    "            mean = self.cluster_centroids[self.cluster_memberships[idx]]\n",
    "            variance = self.dist(mean,datum)**2\n",
    "            total_variance += variance\n",
    "            \n",
    "        return total_variance / len(self.data)"
   ]
  },
  {
   "cell_type": "code",
   "execution_count": 14,
   "metadata": {},
   "outputs": [
    {
     "name": "stdout",
     "output_type": "stream",
     "text": [
      "Lambda means clustering complete (lambda = 2.1885118303164015). Took 2 iterations and made 1.0 clusters.\n",
      "Average intracluster variance: 0.8435030110789502\n",
      "predicted cluster for new data: [0. 0. 0. 0.]\n",
      "Plotting skipped as there is only one cluster.\n"
     ]
    }
   ],
   "source": [
    "# generate some dummy data to make sure it roughly works\n",
    "dummy = np.random.rand(100,10)\n",
    "test = cluster_dataset(dummy)\n",
    "\n",
    "#fit to data\n",
    "test.train()\n",
    "\n",
    "\n",
    "# predict some new data's cluster memberships\n",
    "new_dummy = np.random.rand(4,10)\n",
    "output = test.predict(new_dummy)\n",
    "\n",
    "# visualize clusters\n",
    "test.visualize()"
   ]
  },
  {
   "cell_type": "code",
   "execution_count": 31,
   "metadata": {},
   "outputs": [
    {
     "data": {
      "image/png": "[encoded data removed]",
      "text/plain": [
       "<Figure size 576x396 with 1 Axes>"
      ]
     },
     "metadata": {},
     "output_type": "display_data"
    },
    {
     "name": "stdout",
     "output_type": "stream",
     "text": [
      "Lambda means clustering complete (lambda = 2). Took 2 iterations and made 3.0 clusters.\n",
      "Average intracluster variance: 0.17016185160440078\n",
      "(3, 3)\n"
     ]
    },
    {
     "data": {
      "image/png": "[encoded data removed]",
      "text/plain": [
       "<Figure size 576x396 with 1 Axes>"
      ]
     },
     "metadata": {},
     "output_type": "display_data"
    }
   ],
   "source": [
    "# another dummy example illustrating a failure due to ordering of points\n",
    "if False:\n",
    "    example = np.random.normal(0.5,0.3,[97,2])\n",
    "    outliers = np.array([[5,4],[5,2],[5,3]])\n",
    "    example = np.concatenate((example,outliers),0)\n",
    "\n",
    "    test = cluster_dataset(example,2)\n",
    "    plt.figure()\n",
    "    plt.scatter(example[:,0],example[:,1])\n",
    "    plt.show()\n",
    "\n",
    "    test.train()\n",
    "    n = np.max(test.cluster_memberships)+1\n",
    "    colors = np.random.rand(n,3)\n",
    "    print(colors.shape)\n",
    "    plt.figure()\n",
    "    for idx,item in enumerate(example):\n",
    "        plt.scatter(item[0],item[1],color = colors[test.cluster_memberships[idx],:])\n",
    "    for idx,item in enumerate(test.cluster_centroids):\n",
    "        plt.scatter(item[0],item[1],marker = 'x', color = colors[idx,:])"
   ]
  },
  {
   "cell_type": "code",
   "execution_count": 24,
   "metadata": {},
   "outputs": [
    {
     "data": {
      "text/plain": [
       "1.5"
      ]
     },
     "execution_count": 24,
     "metadata": {},
     "output_type": "execute_result"
    }
   ],
   "source": [
    "test.dist(np.array([5,2]),np.array([5,3.5]))"
   ]
  },
  {
   "cell_type": "markdown",
   "metadata": {},
   "source": [
    "\n"
   ]
  },
  {
   "cell_type": "markdown",
   "metadata": {},
   "source": [
    "## 2. Dataset 1\n",
    "Clustering is performed on the first dataset (high-dimensional guassian random distributions)."
   ]
  },
  {
   "cell_type": "code",
   "execution_count": 4,
   "metadata": {},
   "outputs": [],
   "source": [
    "# parse first data file\n",
    "with open(\"dataset_1.txt\",'r') as f:\n",
    "    all_lines = []\n",
    "    for line in f:\n",
    "        vals = []\n",
    "        line = line.rstrip().split('   ')\n",
    "        for item in line:\n",
    "            if len(item) > 0:\n",
    "                vals.append(int(item))\n",
    "        row = np.array(vals)\n",
    "        row = row[np.newaxis,:]\n",
    "        all_lines.append(row)\n",
    "    data1 = np.concatenate(all_lines, axis=0 )\n"
   ]
  },
  {
   "cell_type": "code",
   "execution_count": 35,
   "metadata": {},
   "outputs": [],
   "source": [
    "def analyze_dataset(data,cutoff_ratio = 0.1,decay = 0.9):\n",
    "    # generate results for a range of lambdas\n",
    "    all_results = []\n",
    "\n",
    "    cluster_data = cluster_dataset(data)\n",
    "    lamb = cluster_data.lamb\n",
    "    cluster_data.train()\n",
    "\n",
    "    variance = cluster_data.intracluster_variance()\n",
    "    num_clusters = np.max(cluster_data.cluster_memberships)+1\n",
    "\n",
    "    all_results = np.array([[lamb,num_clusters,variance]])\n",
    "    num_clusters = 1\n",
    "    while num_clusters < len(data)*cutoff_ratio:\n",
    "        lamb = decay*lamb\n",
    "        cluster_data = cluster_dataset(data,lamb)\n",
    "        cluster_data.train()\n",
    "\n",
    "        variance = cluster_data.intracluster_variance()\n",
    "        num_clusters = np.max(cluster_data.cluster_memberships)+1\n",
    "\n",
    "        new_results = np.array([[lamb,num_clusters,variance]])\n",
    "        all_results = np.concatenate((all_results,new_results),0)\n",
    "   \n",
    "    # find hinge point as max second derivative\n",
    "    dx = all_results[1:,2] - all_results[:-1,2]\n",
    "    ddx = dx[1:]-dx[:-1]\n",
    "    opt_idx = np.argmax(ddx) +1\n",
    "    lambda_opt = all_results[opt_idx,0]\n",
    "    \n",
    "\n",
    "    # plot results\n",
    "    fig, ax1 = plt.subplots()\n",
    "\n",
    "    color = 'tab:red'\n",
    "    ax1.set_xlabel('lambda')\n",
    "    ax1.set_ylabel('Intracluster Variance', color=color)\n",
    "    ax1.plot(all_results[:,0],all_results[:,2], color=color)\n",
    "    ax1.tick_params(axis='y', labelcolor=color)\n",
    "    \n",
    "    ax1.scatter(lambda_opt,all_results[opt_idx,2],color= color)\n",
    "\n",
    "    ax2 = ax1.twinx()  # instantiate a second axes that shares the same x-axis\n",
    "\n",
    "    color = 'tab:blue'\n",
    "    ax2.set_ylabel('# clusters', color=color)  # we already handled the x-label with ax1\n",
    "    ax2.plot(all_results[:,0],all_results[:,1], color=color)\n",
    "    ax2.tick_params(axis='y', labelcolor=color)\n",
    "\n",
    "    fig.tight_layout()  # otherwise the right y-label is slightly clipped\n",
    "    plt.title(\"Effects of lambda parameter\",fontsize= 16)\n",
    "    plt.show()\n",
    "    \n",
    "    print(\"Optimal lambda: {} \".format(lambda_opt))\n",
    "    print(\"Num clusters: {}\".format(all_results[opt_idx,1]))\n",
    "    print(\"Intracluster variance: {}\".format(all_results[opt_idx,2]))\n",
    "    return all_results, lambda_opt"
   ]
  },
  {
   "cell_type": "code",
   "execution_count": 36,
   "metadata": {},
   "outputs": [
    {
     "name": "stdout",
     "output_type": "stream",
     "text": [
      "Lambda means clustering complete (lambda = 2.819008209019544). Took 2 iterations and made 1.0 clusters.\n",
      "Average intracluster variance: 1.9765050241728668\n",
      "Lambda means clustering complete (lambda = 2.53710738811759). Took 2 iterations and made 1.0 clusters.\n",
      "Average intracluster variance: 1.9765050241728668\n",
      "Lambda means clustering complete (lambda = 2.283396649305831). Took 2 iterations and made 1.0 clusters.\n",
      "Average intracluster variance: 1.9765050241728668\n",
      "Lambda means clustering complete (lambda = 2.055056984375248). Took 2 iterations and made 1.0 clusters.\n",
      "Average intracluster variance: 1.9765050241728668\n",
      "Lambda means clustering complete (lambda = 1.8495512859377232). Took 2 iterations and made 1.0 clusters.\n",
      "Average intracluster variance: 1.9765050241728668\n",
      "Lambda means clustering complete (lambda = 1.664596157343951). Took 2 iterations and made 1.0 clusters.\n",
      "Average intracluster variance: 1.9765050241728668\n",
      "Lambda means clustering complete (lambda = 1.4981365416095558). Took 3 iterations and made 7.0 clusters.\n",
      "Average intracluster variance: 1.0781656123387606\n",
      "Lambda means clustering complete (lambda = 1.3483228874486002). Took 2 iterations and made 12.0 clusters.\n",
      "Average intracluster variance: 0.4295971954161823\n",
      "Lambda means clustering complete (lambda = 1.21349059870374). Took 3 iterations and made 16.0 clusters.\n",
      "Average intracluster variance: 0.004932897675897625\n",
      "Lambda means clustering complete (lambda = 1.0921415388333662). Took 6 iterations and made 17.0 clusters.\n",
      "Average intracluster variance: 0.004900842246236214\n",
      "Lambda means clustering complete (lambda = 0.9829273849500296). Took 6 iterations and made 17.0 clusters.\n",
      "Average intracluster variance: 0.004900842246236214\n",
      "Lambda means clustering complete (lambda = 0.8846346464550267). Took 6 iterations and made 17.0 clusters.\n",
      "Average intracluster variance: 0.004900842246236214\n",
      "Lambda means clustering complete (lambda = 0.796171181809524). Took 6 iterations and made 17.0 clusters.\n",
      "Average intracluster variance: 0.004900842246236214\n",
      "Lambda means clustering complete (lambda = 0.7165540636285715). Took 6 iterations and made 17.0 clusters.\n",
      "Average intracluster variance: 0.004900842246236214\n",
      "Lambda means clustering complete (lambda = 0.6448986572657144). Took 6 iterations and made 17.0 clusters.\n",
      "Average intracluster variance: 0.004900842246236214\n",
      "Lambda means clustering complete (lambda = 0.5804087915391429). Took 6 iterations and made 17.0 clusters.\n",
      "Average intracluster variance: 0.004900842246236214\n",
      "Lambda means clustering complete (lambda = 0.5223679123852286). Took 6 iterations and made 17.0 clusters.\n",
      "Average intracluster variance: 0.004900842246236214\n",
      "Lambda means clustering complete (lambda = 0.47013112114670574). Took 6 iterations and made 17.0 clusters.\n",
      "Average intracluster variance: 0.004900842246236214\n",
      "Lambda means clustering complete (lambda = 0.42311800903203517). Took 6 iterations and made 17.0 clusters.\n",
      "Average intracluster variance: 0.004900842246236214\n",
      "Lambda means clustering complete (lambda = 0.38080620812883165). Took 6 iterations and made 17.0 clusters.\n",
      "Average intracluster variance: 0.004900842246236214\n",
      "Lambda means clustering complete (lambda = 0.3427255873159485). Took 6 iterations and made 17.0 clusters.\n",
      "Average intracluster variance: 0.004900842246236214\n",
      "Lambda means clustering complete (lambda = 0.30845302858435364). Took 6 iterations and made 17.0 clusters.\n",
      "Average intracluster variance: 0.004900842246236214\n",
      "Lambda means clustering complete (lambda = 0.2776077257259183). Took 6 iterations and made 17.0 clusters.\n",
      "Average intracluster variance: 0.004900842246236214\n",
      "Lambda means clustering complete (lambda = 0.24984695315332647). Took 7 iterations and made 18.0 clusters.\n",
      "Average intracluster variance: 0.004837142653708981\n",
      "Lambda means clustering complete (lambda = 0.22486225783799382). Took 7 iterations and made 20.0 clusters.\n",
      "Average intracluster variance: 0.004778209548646639\n",
      "Lambda means clustering complete (lambda = 0.20237603205419444). Took 7 iterations and made 25.0 clusters.\n",
      "Average intracluster variance: 0.004654933606015644\n",
      "Lambda means clustering complete (lambda = 0.18213842884877499). Took 9 iterations and made 37.0 clusters.\n",
      "Average intracluster variance: 0.004382948714254125\n",
      "Lambda means clustering complete (lambda = 0.1639245859638975). Took 7 iterations and made 49.0 clusters.\n",
      "Average intracluster variance: 0.004089010323814893\n",
      "Lambda means clustering complete (lambda = 0.14753212736750776). Took 7 iterations and made 83.0 clusters.\n",
      "Average intracluster variance: 0.003434985244406253\n",
      "Lambda means clustering complete (lambda = 0.132778914630757). Took 5 iterations and made 117.0 clusters.\n",
      "Average intracluster variance: 0.002897543214402614\n"
     ]
    },
    {
     "data": {
      "image/png": "[encoded data removed]",
      "text/plain": [
       "<Figure size 576x396 with 2 Axes>"
      ]
     },
     "metadata": {},
     "output_type": "display_data"
    },
    {
     "name": "stdout",
     "output_type": "stream",
     "text": [
      "Optimal lambda: 1.21349059870374 \n",
      "Num clusters: 16.0\n",
      "Intracluster variance: 0.004932897675897625\n"
     ]
    }
   ],
   "source": [
    "# cluster first dataset 1\n",
    "result,lambda_opt = analyze_dataset(data1)"
   ]
  },
  {
   "cell_type": "markdown",
   "metadata": {},
   "source": [
    "The optimal value of lambda is that for which subsequent increase results in a sharp increase in the intracluster variance (i.e. highly dissimilar data begin to be grouped in the same cluster). For the first dataset, the optimal value of lambda results in 16 clusters, which is close to what should be expected since the dataset was originally generated from 15 normal distributions. Thus, one distribution was sufficiently wide such that for this value of lambda, it was grouped into two separate clusters. This can be seen in the 2D projection of clusters below. A few possible explanations for this are:\n",
    "- Reordering the data would result in a different number of clusters that more closely fits the 15 original Gaussian distributions. Say that the first two data examined by the clustering algorithm belong to the same Gaussian distribution but are on opposite extrema. Two clusters may be created, and once the centroids have been created within a distribution, there is no method in lambda-means clustering to merge these two centroids or get rid of one.  \n",
    "- The optimal value for lambda was rather naively calculated by a rough estimate of the second derivative of intracluster variance. A more nuanced approach to its calculation may in fact determine an optimal lambda that yields 15 clusters."
   ]
  },
  {
   "cell_type": "code",
   "execution_count": 38,
   "metadata": {},
   "outputs": [
    {
     "name": "stdout",
     "output_type": "stream",
     "text": [
      "Lambda means clustering complete (lambda = 1.21349). Took 3 iterations and made 16.0 clusters.\n",
      "Average intracluster variance: 0.004932897675897625\n",
      "(1024, 3) (1024, 3)\n"
     ]
    },
    {
     "data": {
      "image/png": "[encoded data removed]",
      "text/plain": [
       "<Figure size 576x396 with 1 Axes>"
      ]
     },
     "metadata": {},
     "output_type": "display_data"
    }
   ],
   "source": [
    "# visualize dataset 1 clusters\n",
    "cluster_data = cluster_dataset(data1,lambda_opt)\n",
    "cluster_data.train()\n",
    "cluster_data.visualize()"
   ]
  },
  {
   "cell_type": "markdown",
   "metadata": {},
   "source": [
    "## Dataset 2"
   ]
  },
  {
   "cell_type": "code",
   "execution_count": null,
   "metadata": {},
   "outputs": [],
   "source": []
  }
 ],
 "metadata": {
  "kernelspec": {
   "display_name": "Python 3",
   "language": "python",
   "name": "python3"
  },
  "language_info": {
   "codemirror_mode": {
    "name": "ipython",
    "version": 3
   },
   "file_extension": ".py",
   "mimetype": "text/x-python",
   "name": "python",
   "nbconvert_exporter": "python",
   "pygments_lexer": "ipython3",
   "version": "3.6.5"
  }
 },
 "nbformat": 4,
 "nbformat_minor": 2
}
